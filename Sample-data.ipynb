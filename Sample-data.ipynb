{
 "cells": [
  {
   "cell_type": "markdown",
   "id": "586e94fd",
   "metadata": {},
   "source": [
    "*******************************JUAN CARLOS PAULINO FONSECA GOMEZ*************************************"
   ]
  },
  {
   "cell_type": "markdown",
   "id": "7fd9c6ac",
   "metadata": {},
   "source": [
    "# Populating the tables \n",
    "Establishing a connection and creating a cursor"
   ]
  },
  {
   "cell_type": "code",
   "execution_count": 7,
   "id": "fe360400",
   "metadata": {},
   "outputs": [
    {
     "name": "stdout",
     "output_type": "stream",
     "text": [
      "Requirement already satisfied: mysql-connector-python in c:\\users\\minero_whitexpg\\appdata\\local\\programs\\python\\python311\\lib\\site-packages (8.0.32)\n",
      "Requirement already satisfied: protobuf<=3.20.3,>=3.11.0 in c:\\users\\minero_whitexpg\\appdata\\local\\programs\\python\\python311\\lib\\site-packages (from mysql-connector-python) (3.20.3)\n"
     ]
    }
   ],
   "source": [
    "!pip install mysql-connector-python"
   ]
  },
  {
   "cell_type": "code",
   "execution_count": 35,
   "id": "eaecf88c",
   "metadata": {},
   "outputs": [],
   "source": [
    "import mysql.connector as connector"
   ]
  },
  {
   "cell_type": "markdown",
   "id": "7964f5f8",
   "metadata": {},
   "source": [
    "#establishing a connection and the cursor"
   ]
  },
  {
   "cell_type": "code",
   "execution_count": 58,
   "id": "10d61a37",
   "metadata": {},
   "outputs": [
    {
     "name": "stdout",
     "output_type": "stream",
     "text": [
      "Connected to MySQL Server version  8.0.31\n"
     ]
    }
   ],
   "source": [
    "connection=connector.connect(\n",
    "    host=\"127.0.0.1\",\n",
    "    port=\"3306\",\n",
    "    user=\"root\",\n",
    "    password=\"Armin12B\",\n",
    "    database=\"capstone\"\n",
    ")\n",
    "\n",
    "cursor=connection.cursor()\n",
    "\n",
    "db_Info = connection.get_server_info()\n",
    "print(\"Connected to MySQL Server version \", db_Info)"
   ]
  },
  {
   "cell_type": "markdown",
   "id": "e1d7823e",
   "metadata": {},
   "source": [
    "#customer table"
   ]
  },
  {
   "cell_type": "code",
   "execution_count": 37,
   "id": "bbd5d665",
   "metadata": {},
   "outputs": [],
   "source": [
    "customer_data = [\n",
    "    (1, 'John Doe', '1234567', 'john.doe@example.com'),\n",
    "    (2, 'Jane Smith', '3478901', 'jane.smith@example.com'),\n",
    "    (3, 'David Lee', '3478901', 'david.lee@example.com'),\n",
    "    (4, 'Sarah Chen', '4567023', 'sarah.chen@example.com'),\n",
    "    (5, 'Michael Kim', '5890134', 'michael.kim@example.com'),\n",
    "    (6, 'Emily Brown', '6789035', 'emily.brown@example.com'),\n",
    "    (7, 'Daniel Kim', '7890356',  'daniel.kim@example.com'),\n",
    "    (8, 'Ava Lee', '8901267', 'ava.lee@example.com'),\n",
    "    (9, 'Oliver Chen', '9012378', 'oliver.chen@example.com'),\n",
    "    (10, 'Sophia Park', '0145789', 'sophia.park@example.com')\n",
    "]"
   ]
  },
  {
   "cell_type": "code",
   "execution_count": 38,
   "id": "36ac6b05",
   "metadata": {},
   "outputs": [
    {
     "name": "stdout",
     "output_type": "stream",
     "text": [
      "Values inserted into Customer table\n"
     ]
    }
   ],
   "source": [
    "customer_query = \"\"\"\n",
    "    INSERT INTO customer (idCustomer, CustomerName, CustomerPhone, CustomerEmail) \n",
    "    VALUES (%s, %s, %s, %s)\n",
    "    \"\"\"\n",
    "cursor.executemany(customer_query, customer_data)\n",
    "connection.commit()\n",
    "print(\"Values inserted into Customer table\")"
   ]
  },
  {
   "cell_type": "markdown",
   "id": "a2eeab25",
   "metadata": {},
   "source": [
    "#booking table"
   ]
  },
  {
   "cell_type": "code",
   "execution_count": 49,
   "id": "0fb683a3",
   "metadata": {},
   "outputs": [],
   "source": [
    "booking_data = [\n",
    "    (1, 2, '2023-03-15', 1),\n",
    "    (2, 4, '2023-03-16', 2),\n",
    "    (3, 1, '2023-03-18', 3),\n",
    "    (4, 3, '2023-03-20', 4),\n",
    "    (5, 2, '2023-03-22', 5),\n",
    "    (6, 4, '2023-03-23', 6),\n",
    "    (7, 1, '2023-03-25', 7),\n",
    "    (8, 3, '2023-03-27', 8),\n",
    "    (9, 2, '2023-03-29', 9),\n",
    "    (10, 4, '2023-03-30', 10)\n",
    "]"
   ]
  },
  {
   "cell_type": "code",
   "execution_count": 50,
   "id": "5db88850",
   "metadata": {},
   "outputs": [
    {
     "name": "stdout",
     "output_type": "stream",
     "text": [
      "Inserted into booking table\n"
     ]
    }
   ],
   "source": [
    "booking_query = \"\"\"\n",
    "    INSERT INTO bookings (idBookings, BookingsTable, BookingsDate, Customer_idCustomer) \n",
    "    VALUES (%s, %s, %s, %s)\n",
    "    \"\"\"\n",
    "cursor.executemany(booking_query, booking_data)\n",
    "connection.commit()\n",
    "print(\"Inserted into booking table\")"
   ]
  },
  {
   "cell_type": "markdown",
   "id": "9e36b500",
   "metadata": {},
   "source": [
    "#menuitems table"
   ]
  },
  {
   "cell_type": "code",
   "execution_count": 59,
   "id": "c50bdfea",
   "metadata": {},
   "outputs": [],
   "source": [
    "menuitem_data = [\n",
    "    (1, 'Prawn cocktail', 'Main', 'Chocolate cake', 'Coca-cola'),\n",
    "    (2, 'Tomato soup', 'Main', 'Fruit salad', 'Sprite'),\n",
    "    (3, 'Chicken curry', 'Main', 'Cheesecake', 'Pepsi'),\n",
    "    (4, 'Beef stew', 'Main', 'Apple pie', 'Lemonade'),\n",
    "    (5, 'Fish and chips', 'Main', 'Ice cream', 'Fanta'),\n",
    "    (6, 'Garlic bread', 'Starter', 'Soup of the day', 'Melon'),\n",
    "    (7, 'Bruschetta', 'Starter', 'Prawn cocktail', 'Soup of the day'),\n",
    "    (8, 'Mushroom soup', 'Starter', 'Garlic bread', 'Melon'),\n",
    "    (9, 'Prawn cocktail', 'Starter', 'Bruschetta', 'Soup of the day'),\n",
    "    (10, 'Soup of the day', 'Starter', 'Mushroom soup', 'Garlic bread')\n",
    "]"
   ]
  },
  {
   "cell_type": "code",
   "execution_count": 60,
   "id": "4c722c24",
   "metadata": {},
   "outputs": [
    {
     "name": "stdout",
     "output_type": "stream",
     "text": [
      "Inserted into menuitems table\n"
     ]
    }
   ],
   "source": [
    "menuitem_query = \"\"\"\n",
    "    INSERT INTO menuitems (idMenuItems, MenuItemsStarter, MenuItemsCourse, MenuItemsDessert, MenuItemsDrinks) \n",
    "    VALUES (%s, %s, %s, %s, %s)\n",
    "    \"\"\"\n",
    "cursor.executemany(menuitem_query, menuitem_data)\n",
    "connection.commit()\n",
    "print(\"Inserted into menuitems table\")"
   ]
  },
  {
   "cell_type": "markdown",
   "id": "1e5c3a3b",
   "metadata": {},
   "source": [
    "#menu table"
   ]
  },
  {
   "cell_type": "code",
   "execution_count": 62,
   "id": "dfccdd99",
   "metadata": {},
   "outputs": [],
   "source": [
    "menu_data = [\n",
    "  (1, 'Italian', 1),\n",
    "  (2, 'Italian', 2),\n",
    "  (3, 'Indian', 3),\n",
    "  (4, 'British', 4),\n",
    "  (5, 'British', 5),\n",
    "  (6, 'Italian', 6),\n",
    "  (7, 'Italian', 7),\n",
    "  (8, 'Indian', 8),\n",
    "  (9, 'Indian', 9),\n",
    "  (10, 'British', 10)\n",
    "]"
   ]
  },
  {
   "cell_type": "code",
   "execution_count": 63,
   "id": "7a4bd6f5",
   "metadata": {},
   "outputs": [
    {
     "name": "stdout",
     "output_type": "stream",
     "text": [
      "Inserted into menu table\n"
     ]
    }
   ],
   "source": [
    "menu_query = \"\"\"\n",
    "    INSERT INTO menu (idMenu, MenuCuisine, MenuItems_idMenuItems) \n",
    "    VALUES (%s, %s, %s)\n",
    "    \"\"\"\n",
    "cursor.executemany(menu_query, menu_data)\n",
    "connection.commit()\n",
    "print(\"Inserted into menu table\")"
   ]
  },
  {
   "cell_type": "markdown",
   "id": "43554410",
   "metadata": {},
   "source": [
    "#staff table"
   ]
  },
  {
   "cell_type": "code",
   "execution_count": 68,
   "id": "c15a7c0f",
   "metadata": {},
   "outputs": [],
   "source": [
    "staff_data = [\n",
    "  (1, 'John Doe', 'Manager', 50000),\n",
    "  (2, 'Jane Smith', 'Chef', 40000),\n",
    "  (3, 'Bob Johnson', 'Waiter', 30000),\n",
    "  (4, 'Amy Lee', 'Waiter', 35000),\n",
    "  (5, 'David Brown', 'Chef', 40000),\n",
    "  (6, 'Sarah Jones', 'Waiter', 25000),\n",
    "  (7, 'Mike Davis', 'Waiter', 28000),\n",
    "  (8, 'Karen Wilson', 'Bartender', 32000)\n",
    "]"
   ]
  },
  {
   "cell_type": "code",
   "execution_count": 69,
   "id": "328b05ab",
   "metadata": {},
   "outputs": [
    {
     "name": "stdout",
     "output_type": "stream",
     "text": [
      "Inserted into staff table\n"
     ]
    }
   ],
   "source": [
    "staff_query = \"\"\"\n",
    "    INSERT INTO staff (idStaff, StaffName, StaffRole, StaffSalary) \n",
    "    VALUES (%s, %s, %s, %s)\n",
    "    \"\"\"\n",
    "cursor.executemany(staff_query, staff_data)\n",
    "connection.commit()\n",
    "print(\"Inserted into staff table\")"
   ]
  },
  {
   "cell_type": "markdown",
   "id": "fc24082b",
   "metadata": {},
   "source": [
    "#order table *******the word ORDER it's a reserved keyword on MySQL**********"
   ]
  },
  {
   "cell_type": "code",
   "execution_count": 74,
   "id": "cb502e40",
   "metadata": {},
   "outputs": [],
   "source": [
    "order_data = [\n",
    "  (1, '2022-02-14', 2, 50, 1, 1, 1),\n",
    "  (2, '2022-02-14', 4, 100, 2, 2, 2),\n",
    "  (3, '2022-02-15', 3, 75, 3, 3, 3),\n",
    "  (4, '2022-02-16', 2, 50, 4, 4, 4)\n",
    "]"
   ]
  },
  {
   "cell_type": "code",
   "execution_count": 76,
   "id": "65e9ccfd",
   "metadata": {
    "scrolled": true
   },
   "outputs": [
    {
     "name": "stdout",
     "output_type": "stream",
     "text": [
      "Inserted into order table\n"
     ]
    }
   ],
   "source": [
    "order_query = \"\"\"\n",
    "    INSERT INTO `order` (idOrder, OrderDate, OrderQty, TotalCost, Bookings_idBookings, Menu_idMenu, Customer_idCustomer) \n",
    "    VALUES (%s, %s, %s, %s, %s, %s, %s)\n",
    "    \"\"\"\n",
    "cursor.executemany(order_query, order_data)\n",
    "connection.commit()\n",
    "print(\"Inserted into order table\")"
   ]
  },
  {
   "cell_type": "markdown",
   "id": "9de0309a",
   "metadata": {},
   "source": [
    "#orderdelivery table"
   ]
  },
  {
   "cell_type": "code",
   "execution_count": 78,
   "id": "b5b6aacc",
   "metadata": {},
   "outputs": [],
   "source": [
    "orderdelivery_data = [\n",
    "    (1, '2023-03-15', 'Delivered', 1, 1),\n",
    "    (2, '2023-03-17', 'In Transit', 2, 2),\n",
    "    (3, '2023-03-20', 'Out for Delivery', 3, 3),\n",
    "    (4, '2023-03-22', 'Pending', 4, 4)\n",
    "]"
   ]
  },
  {
   "cell_type": "code",
   "execution_count": 79,
   "id": "137c1f6f",
   "metadata": {},
   "outputs": [
    {
     "name": "stdout",
     "output_type": "stream",
     "text": [
      "Inserted into orderdelivery table\n"
     ]
    }
   ],
   "source": [
    "orderdelivery_query = \"\"\"\n",
    "    INSERT INTO orderdelivery (idOrderDelivery, DeliveryDate, DeliveryStatus, Order_idOrder, Staff_idStaff)\n",
    "    VALUES (%s, %s, %s, %s, %s)\n",
    "    \"\"\"\n",
    "cursor.executemany(orderdelivery_query, orderdelivery_data)\n",
    "connection.commit()\n",
    "print(\"Inserted into orderdelivery table\")"
   ]
  },
  {
   "cell_type": "code",
   "execution_count": 80,
   "id": "889135dc",
   "metadata": {},
   "outputs": [
    {
     "name": "stdout",
     "output_type": "stream",
     "text": [
      "Commiting and closing both connection and cursor.\n"
     ]
    }
   ],
   "source": [
    "cursor.close()\n",
    "connection.close()\n",
    "print(\"Commiting and closing both connection and cursor.\")"
   ]
  },
  {
   "cell_type": "code",
   "execution_count": null,
   "id": "9f722ac6",
   "metadata": {},
   "outputs": [],
   "source": []
  },
  {
   "cell_type": "code",
   "execution_count": null,
   "id": "95884336",
   "metadata": {},
   "outputs": [],
   "source": []
  }
 ],
 "metadata": {
  "kernelspec": {
   "display_name": "Python 3 (ipykernel)",
   "language": "python",
   "name": "python3"
  },
  "language_info": {
   "codemirror_mode": {
    "name": "ipython",
    "version": 3
   },
   "file_extension": ".py",
   "mimetype": "text/x-python",
   "name": "python",
   "nbconvert_exporter": "python",
   "pygments_lexer": "ipython3",
   "version": "3.11.3"
  }
 },
 "nbformat": 4,
 "nbformat_minor": 5
}
