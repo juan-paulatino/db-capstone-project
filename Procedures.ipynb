{
 "cells": [
  {
   "cell_type": "markdown",
   "id": "a2b8da28",
   "metadata": {},
   "source": [
    "*********************JUAN CARLOS PAULINO FONSECA GOMEZ*************************"
   ]
  },
  {
   "cell_type": "markdown",
   "id": "32110546",
   "metadata": {},
   "source": [
    "# Capstone Project Stored Procedures: \n",
    "GetMaxQuantity, ManageBooking, UpdateBooking, AddBooking, CancelBooking"
   ]
  },
  {
   "cell_type": "markdown",
   "id": "3d3d415c",
   "metadata": {},
   "source": [
    "#Establishing a connection and cursor"
   ]
  },
  {
   "cell_type": "code",
   "execution_count": 3,
   "id": "14d9c318",
   "metadata": {},
   "outputs": [],
   "source": [
    "import mysql.connector as connector"
   ]
  },
  {
   "cell_type": "code",
   "execution_count": 14,
   "id": "98f9842a",
   "metadata": {},
   "outputs": [
    {
     "name": "stdout",
     "output_type": "stream",
     "text": [
      "Connected to MySQL Server version  8.0.31\n"
     ]
    }
   ],
   "source": [
    "connection=connector.connect(\n",
    "    host=\"127.0.0.1\",\n",
    "    port=\"3306\",\n",
    "    user=\"root\",\n",
    "    password=\"Armin12B\",\n",
    "    database=\"capstone\"\n",
    ")\n",
    "\n",
    "cursor=connection.cursor()\n",
    "\n",
    "db_Info = connection.get_server_info()\n",
    "print(\"Connected to MySQL Server version \", db_Info)"
   ]
  },
  {
   "cell_type": "markdown",
   "id": "d8825db1",
   "metadata": {},
   "source": [
    "#GetMaxQuantity"
   ]
  },
  {
   "cell_type": "code",
   "execution_count": 5,
   "id": "4881316d",
   "metadata": {},
   "outputs": [
    {
     "name": "stdout",
     "output_type": "stream",
     "text": [
      "[(4,)]\n"
     ]
    }
   ],
   "source": [
    "cursor.execute(\"\"\"\n",
    "    CREATE PROCEDURE GetMaxQuantity ()\n",
    "    BEGIN\n",
    "        SELECT MAX(OrderQty)\n",
    "        FROM `order`;\n",
    "    END\"\"\")\n",
    "cursor.callproc('GetMaxQuantity')\n",
    "for result in cursor.stored_results():\n",
    "    print(result.fetchall())"
   ]
  },
  {
   "cell_type": "markdown",
   "id": "250d64e8",
   "metadata": {},
   "source": [
    "#ManageBooking"
   ]
  },
  {
   "cell_type": "code",
   "execution_count": 60,
   "id": "3c368c6c",
   "metadata": {},
   "outputs": [],
   "source": [
    "cursor.execute(\"\"\"\n",
    "    CREATE PROCEDURE ManageBooking (\n",
    "        IN p_BookingsDate DATE,\n",
    "        IN p_BookingsTable INT\n",
    "    )\n",
    "    BEGIN\n",
    "        DECLARE BookingsCount INT;\n",
    "        \n",
    "        SELECT COUNT(*) INTO BookingsCount\n",
    "        FROM bookings\n",
    "        WHERE BookingsDate = p_BookingsDate AND BookingsTable = p_BookingsTable;\n",
    "        \n",
    "        IF BookingsCount > 0 THEN\n",
    "            SELECT CONCAT('Table ', p_BookingsTable, ' is already booked') AS message;\n",
    "        ELSE\n",
    "            SELECT CONCAT('Table ', p_BookingsTable, ' is available') AS message;\n",
    "        END IF;\n",
    "    END\"\"\")"
   ]
  },
  {
   "cell_type": "code",
   "execution_count": 61,
   "id": "a9b9d4b4",
   "metadata": {},
   "outputs": [
    {
     "name": "stdout",
     "output_type": "stream",
     "text": [
      "[('Table 1 is available',)]\n"
     ]
    }
   ],
   "source": [
    "cursor.callproc('ManageBooking', ('2023-03-15', 1))\n",
    "for result in cursor.stored_results():\n",
    "    print(result.fetchall())"
   ]
  },
  {
   "cell_type": "code",
   "execution_count": 62,
   "id": "19b85caf",
   "metadata": {},
   "outputs": [
    {
     "name": "stdout",
     "output_type": "stream",
     "text": [
      "[('Table 3 is already booked',)]\n"
     ]
    }
   ],
   "source": [
    "cursor.callproc('ManageBooking', ('2023-03-20', 3))\n",
    "for result in cursor.stored_results():\n",
    "    print(result.fetchall())"
   ]
  },
  {
   "cell_type": "markdown",
   "id": "b3342ec5",
   "metadata": {},
   "source": [
    "#UpdateBooking"
   ]
  },
  {
   "cell_type": "code",
   "execution_count": 5,
   "id": "8ae32b04",
   "metadata": {},
   "outputs": [],
   "source": [
    "cursor.execute(\"\"\"\n",
    "    CREATE PROCEDURE UpdateBooking(\n",
    "        IN p_booking_id INT,\n",
    "        IN p_booking_table INT,\n",
    "        IN p_booking_date DATE\n",
    "    )\n",
    "    BEGIN\n",
    "        UPDATE bookings\n",
    "        SET BookingsTable = p_booking_table, BookingsDate = p_booking_date    \n",
    "        WHERE idBookings = p_booking_id;\n",
    "    END\"\"\")"
   ]
  },
  {
   "cell_type": "code",
   "execution_count": 8,
   "id": "1dd8cf68",
   "metadata": {
    "scrolled": true
   },
   "outputs": [
    {
     "data": {
      "text/plain": [
       "(1, 3, '2022-11-23')"
      ]
     },
     "execution_count": 8,
     "metadata": {},
     "output_type": "execute_result"
    }
   ],
   "source": [
    "cursor.callproc('UpdateBooking', (1, 3, '2022-11-23'))"
   ]
  },
  {
   "cell_type": "markdown",
   "id": "44949dc1",
   "metadata": {},
   "source": [
    "#AddBooking"
   ]
  },
  {
   "cell_type": "code",
   "execution_count": 15,
   "id": "7894232a",
   "metadata": {},
   "outputs": [],
   "source": [
    "cursor.execute(\"\"\"\n",
    "    CREATE PROCEDURE AddBooking (\n",
    "        IN table_number INT,\n",
    "        IN booking_date DATE\n",
    "    )\n",
    "    BEGIN\n",
    "        DECLARE booking_status BOOL;\n",
    "        SELECT COUNT(*) INTO booking_status\n",
    "        FROM bookings\n",
    "        WHERE BookingsTable = table_number AND BookingsDate = booking_date;\n",
    "        IF booking_status = 0 THEN\n",
    "            INSERT INTO bookings (BookingsTable, BookingsDate)\n",
    "            VALUES (table_number, booking_date);\n",
    "            SELECT CONCAT('Booking for table ', table_number, ' on ', booking_date, ' was successful') AS message;\n",
    "        ELSE\n",
    "            SELECT CONCAT('Table ', table_number, ' is already booked on ', booking_date) AS message;\n",
    "        END IF;\n",
    "    END\"\"\")"
   ]
  },
  {
   "cell_type": "code",
   "execution_count": null,
   "id": "be691e0f",
   "metadata": {},
   "outputs": [],
   "source": [
    "cursor.callproc('AddBooking', (1, '2023-03-15'))\n",
    "for result in cursor.stored_results():\n",
    "    print(result.fetchall())"
   ]
  },
  {
   "cell_type": "markdown",
   "id": "e01b2ec5",
   "metadata": {},
   "source": [
    "#CancelBooking"
   ]
  },
  {
   "cell_type": "code",
   "execution_count": 19,
   "id": "81056acf",
   "metadata": {},
   "outputs": [],
   "source": [
    "cursor.execute(\"\"\"\n",
    "    CREATE PROCEDURE CancelBooking(IN booking_id INT)\n",
    "    BEGIN\n",
    "        DELETE FROM bookings WHERE BookingID = booking_id;\n",
    "    END\"\"\")"
   ]
  },
  {
   "cell_type": "code",
   "execution_count": null,
   "id": "0869fb96",
   "metadata": {},
   "outputs": [],
   "source": [
    "cursor.callproc('CancelBooking', (1,))"
   ]
  },
  {
   "cell_type": "code",
   "execution_count": 21,
   "id": "79ceb17f",
   "metadata": {},
   "outputs": [
    {
     "data": {
      "text/plain": [
       "True"
      ]
     },
     "execution_count": 21,
     "metadata": {},
     "output_type": "execute_result"
    }
   ],
   "source": [
    "cursor.close()"
   ]
  },
  {
   "cell_type": "code",
   "execution_count": null,
   "id": "373b7482",
   "metadata": {},
   "outputs": [],
   "source": []
  }
 ],
 "metadata": {
  "kernelspec": {
   "display_name": "Python 3 (ipykernel)",
   "language": "python",
   "name": "python3"
  },
  "language_info": {
   "codemirror_mode": {
    "name": "ipython",
    "version": 3
   },
   "file_extension": ".py",
   "mimetype": "text/x-python",
   "name": "python",
   "nbconvert_exporter": "python",
   "pygments_lexer": "ipython3",
   "version": "3.11.3"
  }
 },
 "nbformat": 4,
 "nbformat_minor": 5
}
